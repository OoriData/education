{
 "cells": [
  {
   "attachments": {},
   "cell_type": "markdown",
   "metadata": {},
   "source": [
    "# Database Demo\n",
    "\n",
    "Sample functionality for creating tables, inserting data and running similarity search with OgbujiPT.\n",
    "\n",
    "__Notes:__\n",
    "\n",
    "## Notebook requirements\n",
    "```\n",
    "pip install jupyter pgvector asyncpg sentence_transformers ogbujipt\n",
    "```\n",
    "\n",
    "This notebook will attempt to access a database named `demo_db` at `localhost:5432`, using the username `tester` and password `demodemodemo`. If you have a different setup, you can change the connection string in the first cell. Note: this uses different DB config than what's used for the test suite (in `test/embedding/test_pgvector.py`).\n",
    "\n",
    "## Database requirements\n",
    "This demo presumes the use of a [PostgreSQL](https://www.postgresql.org) database with the [pgvector extension](https://github.com/pgvector/pgvector)\n",
    "\n",
    "Run the following to make a DB/PGVector instance available:\n",
    "```sh\n",
    "docker run --name pg_demo_db -p 5432:5432 -e POSTGRES_USER=tester -e POSTGRES_PASSWORD=demodemodemo -e POSTGRES_DB=demo_db -d ankane/pgvector\n",
    "```"
   ]
  },
  {
   "attachments": {},
   "cell_type": "markdown",
   "metadata": {},
   "source": [
    "## Initial setup and Imports"
   ]
  },
  {
   "cell_type": "code",
   "execution_count": 80,
   "metadata": {},
   "outputs": [
    {
     "name": "stderr",
     "output_type": "stream",
     "text": [
      "huggingface/tokenizers: The current process just got forked, after parallelism has already been used. Disabling parallelism to avoid deadlocks...\n",
      "To disable this warning, you can either:\n",
      "\t- Avoid using `tokenizers` before the fork if possible\n",
      "\t- Explicitly set the environment variable TOKENIZERS_PARALLELISM=(true | false)\n"
     ]
    },
    {
     "name": "stdout",
     "output_type": "stream",
     "text": [
      "Requirement already satisfied: jupyter in /Users/osi/dev/education/.venv/lib/python3.11/site-packages (1.0.0)\n",
      "Requirement already satisfied: pgvector in /Users/osi/dev/education/.venv/lib/python3.11/site-packages (0.2.5)\n",
      "Requirement already satisfied: asyncpg in /Users/osi/dev/education/.venv/lib/python3.11/site-packages (0.29.0)\n",
      "Requirement already satisfied: sentence_transformers in /Users/osi/dev/education/.venv/lib/python3.11/site-packages (3.0.0)\n",
      "Requirement already satisfied: ogbujipt in /Users/osi/dev/education/.venv/lib/python3.11/site-packages (0.9.1)\n",
      "Requirement already satisfied: notebook in /Users/osi/dev/education/.venv/lib/python3.11/site-packages (from jupyter) (7.2.0)\n",
      "Requirement already satisfied: qtconsole in /Users/osi/dev/education/.venv/lib/python3.11/site-packages (from jupyter) (5.5.2)\n",
      "Requirement already satisfied: jupyter-console in /Users/osi/dev/education/.venv/lib/python3.11/site-packages (from jupyter) (6.6.3)\n",
      "Requirement already satisfied: nbconvert in /Users/osi/dev/education/.venv/lib/python3.11/site-packages (from jupyter) (7.16.4)\n",
      "Requirement already satisfied: ipykernel in /Users/osi/dev/education/.venv/lib/python3.11/site-packages (from jupyter) (6.29.4)\n",
      "Requirement already satisfied: ipywidgets in /Users/osi/dev/education/.venv/lib/python3.11/site-packages (from jupyter) (8.1.3)\n",
      "Requirement already satisfied: numpy in /Users/osi/dev/education/.venv/lib/python3.11/site-packages (from pgvector) (1.26.4)\n",
      "Requirement already satisfied: async-timeout>=4.0.3 in /Users/osi/dev/education/.venv/lib/python3.11/site-packages (from asyncpg) (4.0.3)\n",
      "Requirement already satisfied: transformers<5.0.0,>=4.34.0 in /Users/osi/dev/education/.venv/lib/python3.11/site-packages (from sentence_transformers) (4.41.2)\n",
      "Requirement already satisfied: tqdm in /Users/osi/dev/education/.venv/lib/python3.11/site-packages (from sentence_transformers) (4.66.4)\n",
      "Requirement already satisfied: torch>=1.11.0 in /Users/osi/dev/education/.venv/lib/python3.11/site-packages (from sentence_transformers) (2.3.1)\n",
      "Requirement already satisfied: scikit-learn in /Users/osi/dev/education/.venv/lib/python3.11/site-packages (from sentence_transformers) (1.5.0)\n",
      "Requirement already satisfied: scipy in /Users/osi/dev/education/.venv/lib/python3.11/site-packages (from sentence_transformers) (1.13.1)\n",
      "Requirement already satisfied: huggingface-hub>=0.15.1 in /Users/osi/dev/education/.venv/lib/python3.11/site-packages (from sentence_transformers) (0.23.3)\n",
      "Requirement already satisfied: Pillow in /Users/osi/dev/education/.venv/lib/python3.11/site-packages (from sentence_transformers) (10.3.0)\n",
      "Requirement already satisfied: amara3-iri in /Users/osi/dev/education/.venv/lib/python3.11/site-packages (from ogbujipt) (3.0.3)\n",
      "Requirement already satisfied: openai>=1.1.0 in /Users/osi/dev/education/.venv/lib/python3.11/site-packages (from ogbujipt) (1.31.1)\n",
      "Requirement already satisfied: python-dotenv in /Users/osi/dev/education/.venv/lib/python3.11/site-packages (from ogbujipt) (1.0.1)\n",
      "Requirement already satisfied: tomli in /Users/osi/dev/education/.venv/lib/python3.11/site-packages (from ogbujipt) (2.0.1)\n",
      "Requirement already satisfied: filelock in /Users/osi/dev/education/.venv/lib/python3.11/site-packages (from huggingface-hub>=0.15.1->sentence_transformers) (3.14.0)\n",
      "Requirement already satisfied: fsspec>=2023.5.0 in /Users/osi/dev/education/.venv/lib/python3.11/site-packages (from huggingface-hub>=0.15.1->sentence_transformers) (2024.6.0)\n",
      "Requirement already satisfied: packaging>=20.9 in /Users/osi/dev/education/.venv/lib/python3.11/site-packages (from huggingface-hub>=0.15.1->sentence_transformers) (24.0)\n",
      "Requirement already satisfied: pyyaml>=5.1 in /Users/osi/dev/education/.venv/lib/python3.11/site-packages (from huggingface-hub>=0.15.1->sentence_transformers) (6.0.1)\n",
      "Requirement already satisfied: requests in /Users/osi/dev/education/.venv/lib/python3.11/site-packages (from huggingface-hub>=0.15.1->sentence_transformers) (2.32.3)\n",
      "Requirement already satisfied: typing-extensions>=3.7.4.3 in /Users/osi/dev/education/.venv/lib/python3.11/site-packages (from huggingface-hub>=0.15.1->sentence_transformers) (4.12.1)\n",
      "Requirement already satisfied: anyio<5,>=3.5.0 in /Users/osi/dev/education/.venv/lib/python3.11/site-packages (from openai>=1.1.0->ogbujipt) (4.4.0)\n",
      "Requirement already satisfied: distro<2,>=1.7.0 in /Users/osi/dev/education/.venv/lib/python3.11/site-packages (from openai>=1.1.0->ogbujipt) (1.9.0)\n",
      "Requirement already satisfied: httpx<1,>=0.23.0 in /Users/osi/dev/education/.venv/lib/python3.11/site-packages (from openai>=1.1.0->ogbujipt) (0.27.0)\n",
      "Requirement already satisfied: pydantic<3,>=1.9.0 in /Users/osi/dev/education/.venv/lib/python3.11/site-packages (from openai>=1.1.0->ogbujipt) (2.7.3)\n",
      "Requirement already satisfied: sniffio in /Users/osi/dev/education/.venv/lib/python3.11/site-packages (from openai>=1.1.0->ogbujipt) (1.3.1)\n",
      "Requirement already satisfied: sympy in /Users/osi/dev/education/.venv/lib/python3.11/site-packages (from torch>=1.11.0->sentence_transformers) (1.12.1)\n",
      "Requirement already satisfied: networkx in /Users/osi/dev/education/.venv/lib/python3.11/site-packages (from torch>=1.11.0->sentence_transformers) (3.3)\n",
      "Requirement already satisfied: jinja2 in /Users/osi/dev/education/.venv/lib/python3.11/site-packages (from torch>=1.11.0->sentence_transformers) (3.1.4)\n",
      "Requirement already satisfied: regex!=2019.12.17 in /Users/osi/dev/education/.venv/lib/python3.11/site-packages (from transformers<5.0.0,>=4.34.0->sentence_transformers) (2024.5.15)\n",
      "Requirement already satisfied: tokenizers<0.20,>=0.19 in /Users/osi/dev/education/.venv/lib/python3.11/site-packages (from transformers<5.0.0,>=4.34.0->sentence_transformers) (0.19.1)\n",
      "Requirement already satisfied: safetensors>=0.4.1 in /Users/osi/dev/education/.venv/lib/python3.11/site-packages (from transformers<5.0.0,>=4.34.0->sentence_transformers) (0.4.3)\n",
      "Requirement already satisfied: pytest in /Users/osi/dev/education/.venv/lib/python3.11/site-packages (from amara3-iri->ogbujipt) (8.2.2)\n",
      "Requirement already satisfied: appnope in /Users/osi/dev/education/.venv/lib/python3.11/site-packages (from ipykernel->jupyter) (0.1.4)\n",
      "Requirement already satisfied: comm>=0.1.1 in /Users/osi/dev/education/.venv/lib/python3.11/site-packages (from ipykernel->jupyter) (0.2.2)\n",
      "Requirement already satisfied: debugpy>=1.6.5 in /Users/osi/dev/education/.venv/lib/python3.11/site-packages (from ipykernel->jupyter) (1.8.1)\n",
      "Requirement already satisfied: ipython>=7.23.1 in /Users/osi/dev/education/.venv/lib/python3.11/site-packages (from ipykernel->jupyter) (8.25.0)\n",
      "Requirement already satisfied: jupyter-client>=6.1.12 in /Users/osi/dev/education/.venv/lib/python3.11/site-packages (from ipykernel->jupyter) (8.6.2)\n",
      "Requirement already satisfied: jupyter-core!=5.0.*,>=4.12 in /Users/osi/dev/education/.venv/lib/python3.11/site-packages (from ipykernel->jupyter) (5.7.2)\n",
      "Requirement already satisfied: matplotlib-inline>=0.1 in /Users/osi/dev/education/.venv/lib/python3.11/site-packages (from ipykernel->jupyter) (0.1.7)\n",
      "Requirement already satisfied: nest-asyncio in /Users/osi/dev/education/.venv/lib/python3.11/site-packages (from ipykernel->jupyter) (1.6.0)\n",
      "Requirement already satisfied: psutil in /Users/osi/dev/education/.venv/lib/python3.11/site-packages (from ipykernel->jupyter) (5.9.8)\n",
      "Requirement already satisfied: pyzmq>=24 in /Users/osi/dev/education/.venv/lib/python3.11/site-packages (from ipykernel->jupyter) (26.0.3)\n",
      "Requirement already satisfied: tornado>=6.1 in /Users/osi/dev/education/.venv/lib/python3.11/site-packages (from ipykernel->jupyter) (6.4)\n",
      "Requirement already satisfied: traitlets>=5.4.0 in /Users/osi/dev/education/.venv/lib/python3.11/site-packages (from ipykernel->jupyter) (5.14.3)\n",
      "Requirement already satisfied: widgetsnbextension~=4.0.11 in /Users/osi/dev/education/.venv/lib/python3.11/site-packages (from ipywidgets->jupyter) (4.0.11)\n",
      "Requirement already satisfied: jupyterlab-widgets~=3.0.11 in /Users/osi/dev/education/.venv/lib/python3.11/site-packages (from ipywidgets->jupyter) (3.0.11)\n",
      "Requirement already satisfied: prompt-toolkit>=3.0.30 in /Users/osi/dev/education/.venv/lib/python3.11/site-packages (from jupyter-console->jupyter) (3.0.46)\n",
      "Requirement already satisfied: pygments in /Users/osi/dev/education/.venv/lib/python3.11/site-packages (from jupyter-console->jupyter) (2.18.0)\n",
      "Requirement already satisfied: beautifulsoup4 in /Users/osi/dev/education/.venv/lib/python3.11/site-packages (from nbconvert->jupyter) (4.12.3)\n",
      "Requirement already satisfied: bleach!=5.0.0 in /Users/osi/dev/education/.venv/lib/python3.11/site-packages (from nbconvert->jupyter) (6.1.0)\n",
      "Requirement already satisfied: defusedxml in /Users/osi/dev/education/.venv/lib/python3.11/site-packages (from nbconvert->jupyter) (0.7.1)\n",
      "Requirement already satisfied: jupyterlab-pygments in /Users/osi/dev/education/.venv/lib/python3.11/site-packages (from nbconvert->jupyter) (0.3.0)\n",
      "Requirement already satisfied: markupsafe>=2.0 in /Users/osi/dev/education/.venv/lib/python3.11/site-packages (from nbconvert->jupyter) (2.1.5)\n",
      "Requirement already satisfied: mistune<4,>=2.0.3 in /Users/osi/dev/education/.venv/lib/python3.11/site-packages (from nbconvert->jupyter) (3.0.2)\n",
      "Requirement already satisfied: nbclient>=0.5.0 in /Users/osi/dev/education/.venv/lib/python3.11/site-packages (from nbconvert->jupyter) (0.10.0)\n",
      "Requirement already satisfied: nbformat>=5.7 in /Users/osi/dev/education/.venv/lib/python3.11/site-packages (from nbconvert->jupyter) (5.10.4)\n",
      "Requirement already satisfied: pandocfilters>=1.4.1 in /Users/osi/dev/education/.venv/lib/python3.11/site-packages (from nbconvert->jupyter) (1.5.1)\n",
      "Requirement already satisfied: tinycss2 in /Users/osi/dev/education/.venv/lib/python3.11/site-packages (from nbconvert->jupyter) (1.3.0)\n",
      "Requirement already satisfied: jupyter-server<3,>=2.4.0 in /Users/osi/dev/education/.venv/lib/python3.11/site-packages (from notebook->jupyter) (2.14.1)\n",
      "Requirement already satisfied: jupyterlab-server<3,>=2.27.1 in /Users/osi/dev/education/.venv/lib/python3.11/site-packages (from notebook->jupyter) (2.27.2)\n",
      "Requirement already satisfied: jupyterlab<4.3,>=4.2.0 in /Users/osi/dev/education/.venv/lib/python3.11/site-packages (from notebook->jupyter) (4.2.1)\n",
      "Requirement already satisfied: notebook-shim<0.3,>=0.2 in /Users/osi/dev/education/.venv/lib/python3.11/site-packages (from notebook->jupyter) (0.2.4)\n",
      "Requirement already satisfied: qtpy>=2.4.0 in /Users/osi/dev/education/.venv/lib/python3.11/site-packages (from qtconsole->jupyter) (2.4.1)\n",
      "Requirement already satisfied: joblib>=1.2.0 in /Users/osi/dev/education/.venv/lib/python3.11/site-packages (from scikit-learn->sentence_transformers) (1.4.2)\n",
      "Requirement already satisfied: threadpoolctl>=3.1.0 in /Users/osi/dev/education/.venv/lib/python3.11/site-packages (from scikit-learn->sentence_transformers) (3.5.0)\n",
      "Requirement already satisfied: idna>=2.8 in /Users/osi/dev/education/.venv/lib/python3.11/site-packages (from anyio<5,>=3.5.0->openai>=1.1.0->ogbujipt) (3.7)\n",
      "Requirement already satisfied: six>=1.9.0 in /Users/osi/dev/education/.venv/lib/python3.11/site-packages (from bleach!=5.0.0->nbconvert->jupyter) (1.16.0)\n",
      "Requirement already satisfied: webencodings in /Users/osi/dev/education/.venv/lib/python3.11/site-packages (from bleach!=5.0.0->nbconvert->jupyter) (0.5.1)\n",
      "Requirement already satisfied: certifi in /Users/osi/dev/education/.venv/lib/python3.11/site-packages (from httpx<1,>=0.23.0->openai>=1.1.0->ogbujipt) (2024.6.2)\n",
      "Requirement already satisfied: httpcore==1.* in /Users/osi/dev/education/.venv/lib/python3.11/site-packages (from httpx<1,>=0.23.0->openai>=1.1.0->ogbujipt) (1.0.5)\n",
      "Requirement already satisfied: h11<0.15,>=0.13 in /Users/osi/dev/education/.venv/lib/python3.11/site-packages (from httpcore==1.*->httpx<1,>=0.23.0->openai>=1.1.0->ogbujipt) (0.14.0)\n",
      "Requirement already satisfied: decorator in /Users/osi/dev/education/.venv/lib/python3.11/site-packages (from ipython>=7.23.1->ipykernel->jupyter) (5.1.1)\n",
      "Requirement already satisfied: jedi>=0.16 in /Users/osi/dev/education/.venv/lib/python3.11/site-packages (from ipython>=7.23.1->ipykernel->jupyter) (0.19.1)\n",
      "Requirement already satisfied: stack-data in /Users/osi/dev/education/.venv/lib/python3.11/site-packages (from ipython>=7.23.1->ipykernel->jupyter) (0.6.3)\n",
      "Requirement already satisfied: pexpect>4.3 in /Users/osi/dev/education/.venv/lib/python3.11/site-packages (from ipython>=7.23.1->ipykernel->jupyter) (4.9.0)\n",
      "Requirement already satisfied: python-dateutil>=2.8.2 in /Users/osi/dev/education/.venv/lib/python3.11/site-packages (from jupyter-client>=6.1.12->ipykernel->jupyter) (2.9.0.post0)\n",
      "Requirement already satisfied: platformdirs>=2.5 in /Users/osi/dev/education/.venv/lib/python3.11/site-packages (from jupyter-core!=5.0.*,>=4.12->ipykernel->jupyter) (4.2.2)\n",
      "Requirement already satisfied: argon2-cffi>=21.1 in /Users/osi/dev/education/.venv/lib/python3.11/site-packages (from jupyter-server<3,>=2.4.0->notebook->jupyter) (23.1.0)\n",
      "Requirement already satisfied: jupyter-events>=0.9.0 in /Users/osi/dev/education/.venv/lib/python3.11/site-packages (from jupyter-server<3,>=2.4.0->notebook->jupyter) (0.10.0)\n",
      "Requirement already satisfied: jupyter-server-terminals>=0.4.4 in /Users/osi/dev/education/.venv/lib/python3.11/site-packages (from jupyter-server<3,>=2.4.0->notebook->jupyter) (0.5.3)\n",
      "Requirement already satisfied: overrides>=5.0 in /Users/osi/dev/education/.venv/lib/python3.11/site-packages (from jupyter-server<3,>=2.4.0->notebook->jupyter) (7.7.0)\n",
      "Requirement already satisfied: prometheus-client>=0.9 in /Users/osi/dev/education/.venv/lib/python3.11/site-packages (from jupyter-server<3,>=2.4.0->notebook->jupyter) (0.20.0)\n",
      "Requirement already satisfied: send2trash>=1.8.2 in /Users/osi/dev/education/.venv/lib/python3.11/site-packages (from jupyter-server<3,>=2.4.0->notebook->jupyter) (1.8.3)\n",
      "Requirement already satisfied: terminado>=0.8.3 in /Users/osi/dev/education/.venv/lib/python3.11/site-packages (from jupyter-server<3,>=2.4.0->notebook->jupyter) (0.18.1)\n",
      "Requirement already satisfied: websocket-client>=1.7 in /Users/osi/dev/education/.venv/lib/python3.11/site-packages (from jupyter-server<3,>=2.4.0->notebook->jupyter) (1.8.0)\n",
      "Requirement already satisfied: async-lru>=1.0.0 in /Users/osi/dev/education/.venv/lib/python3.11/site-packages (from jupyterlab<4.3,>=4.2.0->notebook->jupyter) (2.0.4)\n",
      "Requirement already satisfied: jupyter-lsp>=2.0.0 in /Users/osi/dev/education/.venv/lib/python3.11/site-packages (from jupyterlab<4.3,>=4.2.0->notebook->jupyter) (2.2.5)\n",
      "Requirement already satisfied: babel>=2.10 in /Users/osi/dev/education/.venv/lib/python3.11/site-packages (from jupyterlab-server<3,>=2.27.1->notebook->jupyter) (2.15.0)\n",
      "Requirement already satisfied: json5>=0.9.0 in /Users/osi/dev/education/.venv/lib/python3.11/site-packages (from jupyterlab-server<3,>=2.27.1->notebook->jupyter) (0.9.25)\n",
      "Requirement already satisfied: jsonschema>=4.18.0 in /Users/osi/dev/education/.venv/lib/python3.11/site-packages (from jupyterlab-server<3,>=2.27.1->notebook->jupyter) (4.22.0)\n",
      "Requirement already satisfied: fastjsonschema>=2.15 in /Users/osi/dev/education/.venv/lib/python3.11/site-packages (from nbformat>=5.7->nbconvert->jupyter) (2.19.1)\n",
      "Requirement already satisfied: wcwidth in /Users/osi/dev/education/.venv/lib/python3.11/site-packages (from prompt-toolkit>=3.0.30->jupyter-console->jupyter) (0.2.13)\n",
      "Requirement already satisfied: annotated-types>=0.4.0 in /Users/osi/dev/education/.venv/lib/python3.11/site-packages (from pydantic<3,>=1.9.0->openai>=1.1.0->ogbujipt) (0.7.0)\n",
      "Requirement already satisfied: pydantic-core==2.18.4 in /Users/osi/dev/education/.venv/lib/python3.11/site-packages (from pydantic<3,>=1.9.0->openai>=1.1.0->ogbujipt) (2.18.4)\n",
      "Requirement already satisfied: charset-normalizer<4,>=2 in /Users/osi/dev/education/.venv/lib/python3.11/site-packages (from requests->huggingface-hub>=0.15.1->sentence_transformers) (3.3.2)\n",
      "Requirement already satisfied: urllib3<3,>=1.21.1 in /Users/osi/dev/education/.venv/lib/python3.11/site-packages (from requests->huggingface-hub>=0.15.1->sentence_transformers) (2.2.1)\n",
      "Requirement already satisfied: soupsieve>1.2 in /Users/osi/dev/education/.venv/lib/python3.11/site-packages (from beautifulsoup4->nbconvert->jupyter) (2.5)\n",
      "Requirement already satisfied: iniconfig in /Users/osi/dev/education/.venv/lib/python3.11/site-packages (from pytest->amara3-iri->ogbujipt) (2.0.0)\n",
      "Requirement already satisfied: pluggy<2.0,>=1.5 in /Users/osi/dev/education/.venv/lib/python3.11/site-packages (from pytest->amara3-iri->ogbujipt) (1.5.0)\n",
      "Requirement already satisfied: mpmath<1.4.0,>=1.1.0 in /Users/osi/dev/education/.venv/lib/python3.11/site-packages (from sympy->torch>=1.11.0->sentence_transformers) (1.3.0)\n",
      "Requirement already satisfied: argon2-cffi-bindings in /Users/osi/dev/education/.venv/lib/python3.11/site-packages (from argon2-cffi>=21.1->jupyter-server<3,>=2.4.0->notebook->jupyter) (21.2.0)\n",
      "Requirement already satisfied: parso<0.9.0,>=0.8.3 in /Users/osi/dev/education/.venv/lib/python3.11/site-packages (from jedi>=0.16->ipython>=7.23.1->ipykernel->jupyter) (0.8.4)\n",
      "Requirement already satisfied: attrs>=22.2.0 in /Users/osi/dev/education/.venv/lib/python3.11/site-packages (from jsonschema>=4.18.0->jupyterlab-server<3,>=2.27.1->notebook->jupyter) (23.2.0)\n",
      "Requirement already satisfied: jsonschema-specifications>=2023.03.6 in /Users/osi/dev/education/.venv/lib/python3.11/site-packages (from jsonschema>=4.18.0->jupyterlab-server<3,>=2.27.1->notebook->jupyter) (2023.12.1)\n",
      "Requirement already satisfied: referencing>=0.28.4 in /Users/osi/dev/education/.venv/lib/python3.11/site-packages (from jsonschema>=4.18.0->jupyterlab-server<3,>=2.27.1->notebook->jupyter) (0.35.1)\n",
      "Requirement already satisfied: rpds-py>=0.7.1 in /Users/osi/dev/education/.venv/lib/python3.11/site-packages (from jsonschema>=4.18.0->jupyterlab-server<3,>=2.27.1->notebook->jupyter) (0.18.1)\n",
      "Requirement already satisfied: python-json-logger>=2.0.4 in /Users/osi/dev/education/.venv/lib/python3.11/site-packages (from jupyter-events>=0.9.0->jupyter-server<3,>=2.4.0->notebook->jupyter) (2.0.7)\n",
      "Requirement already satisfied: rfc3339-validator in /Users/osi/dev/education/.venv/lib/python3.11/site-packages (from jupyter-events>=0.9.0->jupyter-server<3,>=2.4.0->notebook->jupyter) (0.1.4)\n",
      "Requirement already satisfied: rfc3986-validator>=0.1.1 in /Users/osi/dev/education/.venv/lib/python3.11/site-packages (from jupyter-events>=0.9.0->jupyter-server<3,>=2.4.0->notebook->jupyter) (0.1.1)\n",
      "Requirement already satisfied: ptyprocess>=0.5 in /Users/osi/dev/education/.venv/lib/python3.11/site-packages (from pexpect>4.3->ipython>=7.23.1->ipykernel->jupyter) (0.7.0)\n",
      "Requirement already satisfied: executing>=1.2.0 in /Users/osi/dev/education/.venv/lib/python3.11/site-packages (from stack-data->ipython>=7.23.1->ipykernel->jupyter) (2.0.1)\n",
      "Requirement already satisfied: asttokens>=2.1.0 in /Users/osi/dev/education/.venv/lib/python3.11/site-packages (from stack-data->ipython>=7.23.1->ipykernel->jupyter) (2.4.1)\n",
      "Requirement already satisfied: pure-eval in /Users/osi/dev/education/.venv/lib/python3.11/site-packages (from stack-data->ipython>=7.23.1->ipykernel->jupyter) (0.2.2)\n",
      "Requirement already satisfied: fqdn in /Users/osi/dev/education/.venv/lib/python3.11/site-packages (from jsonschema[format-nongpl]>=4.18.0->jupyter-events>=0.9.0->jupyter-server<3,>=2.4.0->notebook->jupyter) (1.5.1)\n",
      "Requirement already satisfied: isoduration in /Users/osi/dev/education/.venv/lib/python3.11/site-packages (from jsonschema[format-nongpl]>=4.18.0->jupyter-events>=0.9.0->jupyter-server<3,>=2.4.0->notebook->jupyter) (20.11.0)\n",
      "Requirement already satisfied: jsonpointer>1.13 in /Users/osi/dev/education/.venv/lib/python3.11/site-packages (from jsonschema[format-nongpl]>=4.18.0->jupyter-events>=0.9.0->jupyter-server<3,>=2.4.0->notebook->jupyter) (2.4)\n",
      "Requirement already satisfied: uri-template in /Users/osi/dev/education/.venv/lib/python3.11/site-packages (from jsonschema[format-nongpl]>=4.18.0->jupyter-events>=0.9.0->jupyter-server<3,>=2.4.0->notebook->jupyter) (1.3.0)\n",
      "Requirement already satisfied: webcolors>=1.11 in /Users/osi/dev/education/.venv/lib/python3.11/site-packages (from jsonschema[format-nongpl]>=4.18.0->jupyter-events>=0.9.0->jupyter-server<3,>=2.4.0->notebook->jupyter) (1.13)\n",
      "Requirement already satisfied: cffi>=1.0.1 in /Users/osi/dev/education/.venv/lib/python3.11/site-packages (from argon2-cffi-bindings->argon2-cffi>=21.1->jupyter-server<3,>=2.4.0->notebook->jupyter) (1.16.0)\n",
      "Requirement already satisfied: pycparser in /Users/osi/dev/education/.venv/lib/python3.11/site-packages (from cffi>=1.0.1->argon2-cffi-bindings->argon2-cffi>=21.1->jupyter-server<3,>=2.4.0->notebook->jupyter) (2.22)\n",
      "Requirement already satisfied: arrow>=0.15.0 in /Users/osi/dev/education/.venv/lib/python3.11/site-packages (from isoduration->jsonschema[format-nongpl]>=4.18.0->jupyter-events>=0.9.0->jupyter-server<3,>=2.4.0->notebook->jupyter) (1.3.0)\n",
      "Requirement already satisfied: types-python-dateutil>=2.8.10 in /Users/osi/dev/education/.venv/lib/python3.11/site-packages (from arrow>=0.15.0->isoduration->jsonschema[format-nongpl]>=4.18.0->jupyter-events>=0.9.0->jupyter-server<3,>=2.4.0->notebook->jupyter) (2.9.0.20240316)\n",
      "Note: you may need to restart the kernel to use updated packages.\n"
     ]
    }
   ],
   "source": [
    "%pip install jupyter pgvector asyncpg sentence_transformers ogbujipt"
   ]
  },
  {
   "cell_type": "code",
   "execution_count": 55,
   "metadata": {},
   "outputs": [],
   "source": [
    "import uuid\n",
    "\n",
    "from ogbujipt.embedding.pgvector import DataDB, MessageDB\n",
    "from ogbujipt.text_helper import text_split\n",
    "\n",
    "from sentence_transformers import SentenceTransformer  # This can take a long time!\n",
    "\n",
    "DB_NAME = 'demo_db'\n",
    "HOST = 'localhost'\n",
    "PORT = 8686\n",
    "USER = 'tester'\n",
    "PASSWORD = 'demodemodemo'\n",
    "\n",
    "e_model = SentenceTransformer('all-MiniLM-L6-v2')  # Load the embedding model; this can also take a long time!"
   ]
  },
  {
   "attachments": {},
   "cell_type": "markdown",
   "metadata": {},
   "source": [
    "# Document Embedding"
   ]
  },
  {
   "attachments": {},
   "cell_type": "markdown",
   "metadata": {},
   "source": [
    "### Splitting the text into Chunks"
   ]
  },
  {
   "cell_type": "code",
   "execution_count": 56,
   "metadata": {},
   "outputs": [
    {
     "data": {
      "text/plain": [
       "['The FitnessGram™ Pacer Test is a multistage aerobic capacity test that progressively gets more difficult as it continues',\n",
       " 'The 20 meter pacer test will begin in 30 seconds\\\\. Line up at the start',\n",
       " 'The running speed starts slowly, but gets faster each minute after you hear this signal',\n",
       " '[beep] A single lap should be completed each time you hear this sound',\n",
       " '[ding] Remember to run in a straight line, and run as long as possible',\n",
       " 'The second time you fail to complete a lap before the sound, your test is over\\\\. The test will begin on the word start',\n",
       " 'On your mark, get ready, start.']"
      ]
     },
     "execution_count": 56,
     "metadata": {},
     "output_type": "execute_result"
    }
   ],
   "source": [
    "pacer_copypasta = 'The FitnessGram™ Pacer Test is a multistage aerobic capacity test that progressively gets more difficult as it continues. The 20 meter pacer test will begin in 30 seconds. Line up at the start. The running speed starts slowly, but gets faster each minute after you hear this signal. [beep] A single lap should be completed each time you hear this sound. [ding] Remember to run in a straight line, and run as long as possible. The second time you fail to complete a lap before the sound, your test is over. The test will begin on the word start. On your mark, get ready, start.'\n",
    "\n",
    "split_copypasta = list(text_split(pacer_copypasta, 120, separator='\\\\. '))\n",
    "split_copypasta"
   ]
  },
  {
   "attachments": {},
   "cell_type": "markdown",
   "metadata": {},
   "source": [
    "### Connecting to the database"
   ]
  },
  {
   "cell_type": "code",
   "execution_count": 57,
   "metadata": {},
   "outputs": [],
   "source": [
    "pacerDB = await DataDB.from_conn_params(\n",
    "    embedding_model=e_model, \n",
    "    table_name='pacer',\n",
    "    db_name=DB_NAME,\n",
    "    host=HOST,\n",
    "    port=int(PORT),\n",
    "    user=USER,\n",
    "    password=PASSWORD\n",
    ")"
   ]
  },
  {
   "attachments": {},
   "cell_type": "markdown",
   "metadata": {},
   "source": [
    "### Create Tables"
   ]
  },
  {
   "cell_type": "code",
   "execution_count": 58,
   "metadata": {},
   "outputs": [],
   "source": [
    "await pacerDB.drop_table()    # Drop the table if one is found\n",
    "await pacerDB.create_table()  # Create a new table"
   ]
  },
  {
   "attachments": {},
   "cell_type": "markdown",
   "metadata": {},
   "source": [
    "### Inserting Document"
   ]
  },
  {
   "cell_type": "code",
   "execution_count": 59,
   "metadata": {},
   "outputs": [
    {
     "name": "stdout",
     "output_type": "stream",
     "text": [
      "Inserted 576 document chunks into the table\n"
     ]
    }
   ],
   "source": [
    "for index, text in enumerate(split_copypasta):          # For each line in the copypasta\n",
    "    await pacerDB.insert(                               # Insert the line into the table\n",
    "        content=text,                                   # The text to be embedded\n",
    "        metadata={\n",
    "            'title': 'Pacer Copypasta',                 # Title metadata\n",
    "            'tags': ['fitness', 'pacer', 'copypasta'],  # Tag metadata\n",
    "            'page_numbers': index,                      # Page number metadata\n",
    "        }                               \n",
    "    )\n",
    "\n",
    "print(f'Inserted {len(pacer_copypasta)} document chunks into the table')"
   ]
  },
  {
   "attachments": {},
   "cell_type": "markdown",
   "metadata": {},
   "source": [
    "## Similarity search Document"
   ]
  },
  {
   "attachments": {},
   "cell_type": "markdown",
   "metadata": {},
   "source": [
    "## Searching the document with a perfect match"
   ]
  },
  {
   "cell_type": "code",
   "execution_count": 60,
   "metadata": {},
   "outputs": [
    {
     "name": "stdout",
     "output_type": "stream",
     "text": [
      "Semantic Searching data using search string:\n",
      "\"[beep] A single lap should be completed each time you hear this sound\"\n"
     ]
    }
   ],
   "source": [
    "search_string = '[beep] A single lap should be completed each time you hear this sound'\n",
    "n = 3\n",
    "print(f'Semantic Searching data using search string:\\n\"{search_string}\"')\n",
    "\n",
    "sim_search = await pacerDB.search(\n",
    "    text=search_string,  # string to search by\n",
    "    limit=n              # Number of results returned\n",
    ")\n",
    "\n",
    "sim_search = list(sim_search)"
   ]
  },
  {
   "cell_type": "code",
   "execution_count": 61,
   "metadata": {},
   "outputs": [
    {
     "name": "stdout",
     "output_type": "stream",
     "text": [
      "{'cosine_similarity': 1.0, 'content': '[beep] A single lap should be completed each time you hear this sound', 'metadata': {'title': 'Pacer Copypasta', 'tags': ['fitness', 'pacer', 'copypasta'], 'page_numbers': 3}}\n",
      "RETURNED TITLE:\n",
      "\"Pacer Copypasta\"\n",
      "RETURNED TITLE:\n",
      "\"Pacer Copypasta\"\n",
      "RETURNED CONTENT:\n",
      "\"[beep] A single lap should be completed each time you hear this sound\"\n",
      "RETURNED COSINE SIMILARITY:\n",
      "1.00\n"
     ]
    }
   ],
   "source": [
    "print(sim_search[0])\n",
    "print(f'RETURNED TITLE:\\n\"{sim_search[0].metadata[\"title\"]}\"')                # Title of the first result\n",
    "print(f'RETURNED TITLE:\\n\"{sim_search[0][\"metadata\"][\"title\"]}\"')             # Dict-style access works too\n",
    "print(f'RETURNED CONTENT:\\n\"{sim_search[0].content}\"')                        # Content of the first result\n",
    "print(f'RETURNED COSINE SIMILARITY:\\n{sim_search[0].cosine_similarity:.2f}')  # Cosine similarity of the first result"
   ]
  },
  {
   "cell_type": "code",
   "execution_count": 62,
   "metadata": {},
   "outputs": [
    {
     "name": "stdout",
     "output_type": "stream",
     "text": [
      "RAW RETURN:\n"
     ]
    },
    {
     "data": {
      "text/plain": [
       "[{'cosine_similarity': 1.0,\n",
       "  'content': '[beep] A single lap should be completed each time you hear this sound',\n",
       "  'metadata': {'title': 'Pacer Copypasta',\n",
       "   'tags': ['fitness', 'pacer', 'copypasta'],\n",
       "   'page_numbers': 3}},\n",
       " {'cosine_similarity': 0.6873455047607422,\n",
       "  'content': 'The second time you fail to complete a lap before the sound, your test is over\\\\. The test will begin on the word start',\n",
       "  'metadata': {'title': 'Pacer Copypasta',\n",
       "   'tags': ['fitness', 'pacer', 'copypasta'],\n",
       "   'page_numbers': 5}},\n",
       " {'cosine_similarity': 0.3791310417134197,\n",
       "  'content': 'The running speed starts slowly, but gets faster each minute after you hear this signal',\n",
       "  'metadata': {'title': 'Pacer Copypasta',\n",
       "   'tags': ['fitness', 'pacer', 'copypasta'],\n",
       "   'page_numbers': 2}}]"
      ]
     },
     "execution_count": 62,
     "metadata": {},
     "output_type": "execute_result"
    }
   ],
   "source": [
    "print(f'RAW RETURN:')\n",
    "sim_search"
   ]
  },
  {
   "attachments": {},
   "cell_type": "markdown",
   "metadata": {},
   "source": [
    "## Searching the document with a partial match"
   ]
  },
  {
   "cell_type": "code",
   "execution_count": 63,
   "metadata": {},
   "outputs": [
    {
     "name": "stdout",
     "output_type": "stream",
     "text": [
      "Semantic Searching data using search string:\n",
      "\"complete 1 lap\"\n"
     ]
    }
   ],
   "source": [
    "search_string = 'complete 1 lap'\n",
    "n = 3\n",
    "print(f'Semantic Searching data using search string:\\n\"{search_string}\"')\n",
    "\n",
    "sim_search = await pacerDB.search(\n",
    "    text=search_string,  # string to search by\n",
    "    limit=n              # Number of results returned\n",
    ")"
   ]
  },
  {
   "cell_type": "code",
   "execution_count": 64,
   "metadata": {},
   "outputs": [
    {
     "name": "stdout",
     "output_type": "stream",
     "text": [
      "RETURNED TITLE:\n",
      "\"Pacer Copypasta\"\n",
      "RETURNED CONTENT:\n",
      "\"[beep] A single lap should be completed each time you hear this sound\"\n",
      "RETURNED COSINE SIMILARITY:\n",
      "0.53\n"
     ]
    }
   ],
   "source": [
    "row1 = next(sim_search)\n",
    "print(f'RETURNED TITLE:\\n\"{row1.metadata[\"title\"]}\"')                # Title of the first result\n",
    "print(f'RETURNED CONTENT:\\n\"{row1.content}\"')                        # Content of the first result\n",
    "print(f'RETURNED COSINE SIMILARITY:\\n{row1.cosine_similarity:.2f}')  # Cosine similarity of the first result"
   ]
  },
  {
   "cell_type": "code",
   "execution_count": 65,
   "metadata": {},
   "outputs": [
    {
     "name": "stdout",
     "output_type": "stream",
     "text": [
      "Remaining rows:\n"
     ]
    },
    {
     "data": {
      "text/plain": [
       "[{'cosine_similarity': 0.4287309944629669,\n",
       "  'content': 'The second time you fail to complete a lap before the sound, your test is over\\\\. The test will begin on the word start',\n",
       "  'metadata': {'title': 'Pacer Copypasta',\n",
       "   'tags': ['fitness', 'pacer', 'copypasta'],\n",
       "   'page_numbers': 5}},\n",
       " {'cosine_similarity': 0.2411168885563878,\n",
       "  'content': '[ding] Remember to run in a straight line, and run as long as possible',\n",
       "  'metadata': {'title': 'Pacer Copypasta',\n",
       "   'tags': ['fitness', 'pacer', 'copypasta'],\n",
       "   'page_numbers': 4}}]"
      ]
     },
     "execution_count": 65,
     "metadata": {},
     "output_type": "execute_result"
    }
   ],
   "source": [
    "# It's a generator, an we already pulled the 1st of 3 rows, so there will be 2 left\n",
    "print('Remaining rows:')\n",
    "list(sim_search)"
   ]
  },
  {
   "attachments": {},
   "cell_type": "markdown",
   "metadata": {},
   "source": [
    "# Chatlog Embedding"
   ]
  },
  {
   "cell_type": "code",
   "execution_count": 66,
   "metadata": {},
   "outputs": [],
   "source": [
    "abbott_and_costello = [  # Demo chatlog\n",
    "    {'role': 'system', 'content': 'The user is considering becoming a ballplayer. The assistant wants to make sure they know what they\\'re getting into.'},\n",
    "    {'role': 'assistant', 'content': 'Strange as it may seem, they give ball players nowadays very peculiar names.'},\n",
    "    {'role': 'user', 'content': 'Funny names?'},\n",
    "    {'role': 'assistant', 'content': 'Nicknames, nicknames. Now, on the St. Louis team we have Who\\'s on first, What\\'s on second, I Don\\'t Know is on third--'},\n",
    "    {'role': 'user', 'content': 'That\\'s what I want to find out. I want you to tell me the names of the fellows on the St. Louis team.'},\n",
    "    {'role': 'assistant', 'content': \"I'm telling you. Who is on first. What's on second. I Don't Know's on third--\"},\n",
    "    {'role': 'user', 'content': \"You know the fellows' names?\"},\n",
    "    {'role': 'assistant', 'content': 'Yes.'},\n",
    "    {'role': 'user', 'content': \"Well, then who's playing first?\"},\n",
    "    {'role': 'assistant', 'content': 'Yes.'},\n",
    "    {'role': 'user', 'content': \"I mean the fellow's name on first base.\"},\n",
    "    {'role': 'assistant', 'content': 'Who.'},\n",
    "    {'role': 'user', 'content': \"The fellow playin' first base.\"},\n",
    "    {'role': 'assistant', 'content': 'Who.'},\n",
    "    {'role': 'user', 'content': \"The guy on first base.\"},\n",
    "    {'role': 'assistant', 'content': 'Who is on first.'},\n",
    "    {'role': 'user', 'content': \"Well, what are you askin' me for?\"},\n",
    "    {'role': 'assistant', 'content': \"I'm not asking you--I'm telling you. Who is on first.\"},\n",
    "    {'role': 'user', 'content': \"I'm asking you--who's on first?\"},\n",
    "    {'role': 'assistant', 'content': 'That\\'s the man\\'s name.'},\n",
    "    {'role': 'user', 'content': \"That's who's name?\"},\n",
    "    {'role': 'assistant', 'content': 'Yes.'},\n",
    "]"
   ]
  },
  {
   "attachments": {},
   "cell_type": "markdown",
   "metadata": {},
   "source": [
    "### Connecting to the database"
   ]
  },
  {
   "cell_type": "code",
   "execution_count": 67,
   "metadata": {},
   "outputs": [],
   "source": [
    "baseballDB = await MessageDB.from_conn_params(\n",
    "    embedding_model=e_model, \n",
    "    table_name='baseball',\n",
    "    user=USER,\n",
    "    password=PASSWORD,\n",
    "    db_name=DB_NAME,\n",
    "    host=HOST,\n",
    "    port=int(PORT)\n",
    ")"
   ]
  },
  {
   "attachments": {},
   "cell_type": "markdown",
   "metadata": {},
   "source": [
    "### Create Tables"
   ]
  },
  {
   "cell_type": "code",
   "execution_count": 68,
   "metadata": {},
   "outputs": [],
   "source": [
    "await baseballDB.drop_table()    # Drop the table if one is found\n",
    "await baseballDB.create_table()  # Create a new table"
   ]
  },
  {
   "attachments": {},
   "cell_type": "markdown",
   "metadata": {},
   "source": [
    "### Inserting Chatlog"
   ]
  },
  {
   "cell_type": "code",
   "execution_count": 69,
   "metadata": {},
   "outputs": [
    {
     "name": "stdout",
     "output_type": "stream",
     "text": [
      "Inserted 22 lines of dialog into the table with history key \"de82e4e0-0e40-448b-9a18-a419a0256894\".\n"
     ]
    }
   ],
   "source": [
    "history_key = uuid.uuid4()        # Generate a key for the chatlog\n",
    "for line in abbott_and_costello:  # For each line of dialog in the script\n",
    "    await baseballDB.insert(      # Insert the message into the table\n",
    "        history_key=history_key,  # The key for the chatlog\n",
    "        role=line['role'],\n",
    "        content=line['content'],\n",
    "        metadata={'genre': 'comedy', 'year': 1938}\n",
    "    )\n",
    "print(f'Inserted {len(abbott_and_costello)} lines of dialog into the table with history key \"{history_key}\".')"
   ]
  },
  {
   "attachments": {},
   "cell_type": "markdown",
   "metadata": {},
   "source": [
    "## Searching the chatlog with a perfect match"
   ]
  },
  {
   "cell_type": "code",
   "execution_count": 70,
   "metadata": {},
   "outputs": [
    {
     "name": "stdout",
     "output_type": "stream",
     "text": [
      "Semantic Searching data using search string: \"nickname\"\n"
     ]
    }
   ],
   "source": [
    "search_string = 'nickname'\n",
    "print(f'Semantic Searching data using search string: \"{search_string}\"')\n",
    "\n",
    "sim_search = await baseballDB.search(\n",
    "    history_key=history_key,\n",
    "    text=search_string,\n",
    "    limit=3\n",
    ")"
   ]
  },
  {
   "cell_type": "code",
   "execution_count": 71,
   "metadata": {},
   "outputs": [
    {
     "name": "stdout",
     "output_type": "stream",
     "text": [
      "RETURNED TIMESTAMP:\n",
      "2024-06-06 04:06:16.825910+00:00\n",
      "RETURNED MESSAGE:\n",
      "system: The user is considering becoming a ballplayer. The assistant wants to make sure they know what they're getting into.\n",
      "RETURNED COSINE SIMILARITY:\n",
      "0.11\n"
     ]
    }
   ],
   "source": [
    "row1 = next(sim_search)\n",
    "print(f'RETURNED TIMESTAMP:\\n{row1.ts}')                              # Print the timestamp of the first result\n",
    "print(f'RETURNED MESSAGE:\\n{row1.role}: {row1.content}')  # Print the message of the first result\n",
    "print(f'RETURNED COSINE SIMILARITY:\\n{row1.cosine_similarity:.2f}')   # Print the cosine similarity of the first result"
   ]
  },
  {
   "cell_type": "code",
   "execution_count": 72,
   "metadata": {},
   "outputs": [
    {
     "name": "stdout",
     "output_type": "stream",
     "text": [
      "Remaining rows:\n"
     ]
    },
    {
     "data": {
      "text/plain": [
       "[{'ts': datetime.datetime(2024, 6, 6, 4, 6, 16, 844270, tzinfo=datetime.timezone.utc),\n",
       "  'role': 'assistant',\n",
       "  'content': 'Strange as it may seem, they give ball players nowadays very peculiar names.',\n",
       "  'metadata': {'genre': 'comedy', 'year': 1938},\n",
       "  'cosine_similarity': 0.3639257252216339},\n",
       " {'ts': datetime.datetime(2024, 6, 6, 4, 6, 16, 863395, tzinfo=datetime.timezone.utc),\n",
       "  'role': 'user',\n",
       "  'content': 'Funny names?',\n",
       "  'metadata': {'genre': 'comedy', 'year': 1938},\n",
       "  'cosine_similarity': 0.4386832118034363}]"
      ]
     },
     "execution_count": 72,
     "metadata": {},
     "output_type": "execute_result"
    }
   ],
   "source": [
    "# It's a generator, an we already pulled the 1st of 3 rows, so there will be 2 left\n",
    "print('Remaining rows:')  \n",
    "list(sim_search)"
   ]
  },
  {
   "attachments": {},
   "cell_type": "markdown",
   "metadata": {},
   "source": [
    "## Searching the chatlog with a partial match"
   ]
  },
  {
   "cell_type": "code",
   "execution_count": 73,
   "metadata": {},
   "outputs": [
    {
     "name": "stdout",
     "output_type": "stream",
     "text": [
      "Semantic Searching data using search string: \"nickname\"\n"
     ]
    }
   ],
   "source": [
    "search_string = 'nickname'\n",
    "print(f'Semantic Searching data using search string: \"{search_string}\"')\n",
    "\n",
    "sim_search = await baseballDB.search(\n",
    "    history_key=history_key,\n",
    "    text=search_string,\n",
    "    limit=3\n",
    ")"
   ]
  },
  {
   "cell_type": "code",
   "execution_count": 74,
   "metadata": {},
   "outputs": [
    {
     "name": "stdout",
     "output_type": "stream",
     "text": [
      "RETURNED TIMESTAMP:\n",
      "2024-06-06 04:06:16.825910+00:00\n",
      "RETURNED MESSAGE:\n",
      "system: The user is considering becoming a ballplayer. The assistant wants to make sure they know what they're getting into.\n",
      "RETURNED COSINE SIMILARITY:\n",
      "0.11\n"
     ]
    }
   ],
   "source": [
    "row1 = next(sim_search)\n",
    "print(f'RETURNED TIMESTAMP:\\n{row1.ts}')                              # Print the timestamp of the first result\n",
    "print(f'RETURNED MESSAGE:\\n{row1.role}: {row1.content}')  # Print the message of the first result\n",
    "print(f'RETURNED COSINE SIMILARITY:\\n{row1.cosine_similarity:.2f}')   # Print the cosine similarity of the first result"
   ]
  },
  {
   "cell_type": "code",
   "execution_count": 75,
   "metadata": {},
   "outputs": [
    {
     "name": "stdout",
     "output_type": "stream",
     "text": [
      "Remaining rows:\n"
     ]
    },
    {
     "data": {
      "text/plain": [
       "[{'ts': datetime.datetime(2024, 6, 6, 4, 6, 16, 844270, tzinfo=datetime.timezone.utc),\n",
       "  'role': 'assistant',\n",
       "  'content': 'Strange as it may seem, they give ball players nowadays very peculiar names.',\n",
       "  'metadata': {'genre': 'comedy', 'year': 1938},\n",
       "  'cosine_similarity': 0.3639257252216339},\n",
       " {'ts': datetime.datetime(2024, 6, 6, 4, 6, 16, 863395, tzinfo=datetime.timezone.utc),\n",
       "  'role': 'user',\n",
       "  'content': 'Funny names?',\n",
       "  'metadata': {'genre': 'comedy', 'year': 1938},\n",
       "  'cosine_similarity': 0.4386832118034363}]"
      ]
     },
     "execution_count": 75,
     "metadata": {},
     "output_type": "execute_result"
    }
   ],
   "source": [
    "# It's a generator, an we already pulled the 1st of 3 rows, sso there will be 2 left\n",
    "print('Remaining rows:')  \n",
    "list(sim_search)"
   ]
  },
  {
   "attachments": {},
   "cell_type": "markdown",
   "metadata": {},
   "source": [
    "## Retrieving the entire chatlog"
   ]
  },
  {
   "cell_type": "code",
   "execution_count": 76,
   "metadata": {},
   "outputs": [
    {
     "name": "stdout",
     "output_type": "stream",
     "text": [
      "Retreiving chatlog \"de82e4e0-0e40-448b-9a18-a419a0256894\" from database\n"
     ]
    }
   ],
   "source": [
    "print(f'Retreiving chatlog \"{history_key}\" from database')\n",
    "script_from_PG = await baseballDB.get_messages(history_key=history_key)"
   ]
  },
  {
   "cell_type": "code",
   "execution_count": 77,
   "metadata": {},
   "outputs": [
    {
     "name": "stdout",
     "output_type": "stream",
     "text": [
      "RETURNED CHATLOG:\n",
      "assistant: Yes.\n",
      "user: That's who's name?\n",
      "assistant: That's the man's name.\n",
      "user: I'm asking you--who's on first?\n",
      "assistant: I'm not asking you--I'm telling you. Who is on first.\n",
      "user: Well, what are you askin' me for?\n",
      "assistant: Who is on first.\n",
      "user: The guy on first base.\n",
      "assistant: Who.\n",
      "user: The fellow playin' first base.\n",
      "assistant: Who.\n",
      "user: I mean the fellow's name on first base.\n",
      "assistant: Yes.\n",
      "user: Well, then who's playing first?\n",
      "assistant: Yes.\n",
      "user: You know the fellows' names?\n",
      "assistant: I'm telling you. Who is on first. What's on second. I Don't Know's on third--\n",
      "user: That's what I want to find out. I want you to tell me the names of the fellows on the St. Louis team.\n",
      "assistant: Nicknames, nicknames. Now, on the St. Louis team we have Who's on first, What's on second, I Don't Know is on third--\n",
      "user: Funny names?\n",
      "assistant: Strange as it may seem, they give ball players nowadays very peculiar names.\n",
      "system: The user is considering becoming a ballplayer. The assistant wants to make sure they know what they're getting into.\n"
     ]
    }
   ],
   "source": [
    "print('RETURNED CHATLOG:')\n",
    "for message in script_from_PG:\n",
    "    print(f'{message[\"role\"]}: {message[\"content\"]}')"
   ]
  },
  {
   "cell_type": "code",
   "execution_count": 78,
   "metadata": {},
   "outputs": [
    {
     "name": "stdout",
     "output_type": "stream",
     "text": [
      "RAW RETURN:\n"
     ]
    },
    {
     "data": {
      "text/plain": [
       "<generator object MessageDB.get_messages.<locals>.<genexpr> at 0x384219e40>"
      ]
     },
     "execution_count": 78,
     "metadata": {},
     "output_type": "execute_result"
    }
   ],
   "source": [
    "print('RAW RETURN:')\n",
    "script_from_PG"
   ]
  },
  {
   "attachments": {},
   "cell_type": "markdown",
   "metadata": {},
   "source": [
    "## (Cleanup)"
   ]
  },
  {
   "cell_type": "code",
   "execution_count": 79,
   "metadata": {},
   "outputs": [],
   "source": [
    "await pacerDB.drop_table()\n",
    "await baseballDB.drop_table()"
   ]
  }
 ],
 "metadata": {
  "kernelspec": {
   "display_name": "env",
   "language": "python",
   "name": "python3"
  },
  "language_info": {
   "codemirror_mode": {
    "name": "ipython",
    "version": 3
   },
   "file_extension": ".py",
   "mimetype": "text/x-python",
   "name": "python",
   "nbconvert_exporter": "python",
   "pygments_lexer": "ipython3",
   "version": "3.11.4"
  },
  "orig_nbformat": 4
 },
 "nbformat": 4,
 "nbformat_minor": 2
}
